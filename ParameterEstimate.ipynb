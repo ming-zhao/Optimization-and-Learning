{
 "cells": [
  {
   "cell_type": "code",
   "execution_count": 2,
   "id": "7d9853ab",
   "metadata": {
    "scrolled": true
   },
   "outputs": [
    {
     "data": {
      "text/html": [
       "<script>\n",
       "  var password = \"123\";\n",
       "  is_sphnix = 0;\n",
       "  is_jupyterNotebook = 1;\n",
       "  is_jupyterLab = 0;\n",
       "\n",
       "  function code_toggle(e) {\n",
       "    var target = e;\n",
       "    if (is_jupyterNotebook == 1) {\n",
       "        while (!target.closest(\".output_wrapper\").previousElementSibling.classList.contains(\"input\")) {\n",
       "          target = target.closest(\".output_wrapper\").previousElementSibling;\n",
       "        }\n",
       "        target = target.closest(\".output_wrapper\").previousElementSibling;\n",
       "        if (target.getAttribute(\"style\") == \"\" || target.getAttribute(\"style\") == null) {\n",
       "          target.style.display = \"none\";\n",
       "          e.innerHTML = 'show code';\n",
       "        }\n",
       "        else {\n",
       "          target.style.removeProperty(\"display\");\n",
       "          e.innerHTML = 'hide code';\n",
       "        }\n",
       "    }\n",
       "  }\n",
       "  \n",
       "  function hide_comment(e) {\n",
       "    if (is_jupyterNotebook == 1) {\n",
       "        var target = e;\n",
       "        while ((target = target.parentElement) && !target.classList.contains(\"text_cell\"));\n",
       "        do {\n",
       "            target = target.nextElementSibling;\n",
       "            if (target.getAttribute(\"style\") == \"\" || target.getAttribute(\"style\") == null) {\n",
       "              target.style.display = \"none\";\n",
       "              e.innerHTML = 'show comment';\n",
       "            }\n",
       "            else {\n",
       "              target.style.removeProperty(\"display\");\n",
       "              e.innerHTML = 'hide comment';\n",
       "            }        \n",
       "        } while (target.innerHTML.indexOf(\"blacksquare\") == -1)\n",
       "    }\n",
       "  }\n",
       "  \n",
       "  $(document).ready(function() {\n",
       "  $.ajax({\n",
       "    type: \"GET\",  \n",
       "    url: \"https://raw.githubusercontent.com/ming-zhao/ming-zhao.github.io/master/data/bzan.csv\",\n",
       "    dataType: \"text\",       \n",
       "    success: function(data)  \n",
       "    {\n",
       "        is_sphnix = 0;\n",
       "        is_jupyterNotebook = 1;\n",
       "        is_jupyterLab = 0;\n",
       "        is_debug = 0;\n",
       "        \n",
       "        if (is_jupyterNotebook == 1) {\n",
       "            var code_blocks = document.getElementsByClassName('input');\n",
       "            for (var i = 0, len = code_blocks.length; i < len; ++i) {\n",
       "              if (\n",
       "                  code_blocks[i].innerHTML.indexOf(\"toggle\") !== -1 \n",
       "                  || code_blocks[i].innerHTML.indexOf(\"button onclick\") !== -1\n",
       "                  || code_blocks[i].innerHTML.indexOf(\"# Hide this cell\") !== -1 \n",
       "                 ) {\n",
       "                if (is_debug == 0) {\n",
       "                    code_blocks[i].style.display = \"none\";\n",
       "                    if (code_blocks[i].nextElementSibling.getElementsByTagName(\"a\").length>0)\n",
       "                        code_blocks[i].nextElementSibling.getElementsByTagName(\"a\")[0].innerHTML = 'show code';\n",
       "                }\n",
       "                else {\n",
       "                    code_blocks[i].style.removeProperty(\"display\");\n",
       "                    if (code_blocks[i].nextElementSibling.getElementsByTagName(\"a\").length>0)\n",
       "                        code_blocks[i].nextElementSibling.getElementsByTagName(\"a\")[0].innerHTML = 'hide code';\n",
       "                }\n",
       "              }\n",
       "            }\n",
       "            \n",
       "            var text_blocks = document.getElementsByClassName('text_cell');\n",
       "            var comment = 0;\n",
       "            for (var i = 0, len = text_blocks.length; i < len; ++i) {\n",
       "                if (comment == 1) {\n",
       "                    text_blocks[i].style.display = \"none\";\n",
       "                }\n",
       "                \n",
       "                if (text_blocks[i].innerHTML.indexOf(\"show comment\") != -1) {\n",
       "                    var links = text_blocks[i].getElementsByTagName('a');\n",
       "                    var j;\n",
       "                    for (j = 0, len_a = links.length; j < len_a; j++) {\n",
       "                        if (links[j].innerHTML.indexOf(\"show comment\") != -1) {\n",
       "                            comment = 1; \n",
       "                            break;\n",
       "                        }\n",
       "                    }\n",
       "                    links[j].onclick = function() { hide_comment(this); return false;};\n",
       "                }\n",
       "\n",
       "                if (text_blocks[i].innerHTML.indexOf(\"blacksquare\") != -1) {\n",
       "                    comment = 0;\n",
       "                }\n",
       "            }\n",
       "        }\n",
       "    }\n",
       "  });\n",
       "  });    \n",
       "  </script>"
      ]
     },
     "metadata": {},
     "output_type": "display_data"
    }
   ],
   "source": [
    "%run ./script.py"
   ]
  },
  {
   "cell_type": "markdown",
   "id": "6b549b03",
   "metadata": {},
   "source": [
    "Let $x$ be a random variable and we are trying to estimate its mean $\\mu$. The frequentist believes the true mean $\\mu$ is a fixed value. \n",
    "- An unbiased estimate after $n$ observations $x_1, \\ldots, x_n$ is\t\n",
    "\\begin{align*}\n",
    "\\mu_n = \\frac{1}{n} \\sum_{i=1}^{n} x_i\n",
    "\\end{align*}\n",
    "- An unbiased estimate of the variance of $x$ is\n",
    "\\begin{align*}\n",
    "\\hat{\\sigma}^2_n = \\frac{1}{n-1} \\sum_{i=1}^{n} \\left( x_i - \\mu_n \\right)^2\n",
    "\\end{align*}"
   ]
  },
  {
   "cell_type": "markdown",
   "id": "1f693ac2",
   "metadata": {},
   "source": [
    "Let $x$ be a random variable and we are trying to estimate its mean $\\mu$. The frequentist believes the true mean $\\mu$ is a fixed value. \n",
    "\\begin{itemize}\n",
    "    \\item An unbiased estimate after $n$ observations $x_1, \\ldots, x_n$ is\t\n",
    "    \\begin{align*}\n",
    "        \\mu_n = \\frac{1}{n} \\sum_{i=1}^{n} x_i\n",
    "    \\end{align*}\n",
    "    \\item An unbiased estimate of the variance of $x$ is\n",
    "    \\begin{align*}\n",
    "        \\hat{\\sigma}^2_n = \\frac{1}{n-1} \\sum_{i=1}^{n} \\left( x_i - \\mu_n \\right)^2\n",
    "    \\end{align*}\n",
    "\\end{itemize}"
   ]
  },
  {
   "cell_type": "code",
   "execution_count": 4,
   "id": "4260e86f",
   "metadata": {},
   "outputs": [
    {
     "data": {
      "text/html": [
       "\n",
       "        <a href=\"#\" onclick=\"code_toggle(this); return false;\">show code</a>\n",
       "    "
      ],
      "text/plain": [
       "<IPython.core.display.HTML object>"
      ]
     },
     "metadata": {},
     "output_type": "display_data"
    }
   ],
   "source": [
    "a = 3\n",
    "toggle()"
   ]
  }
 ],
 "metadata": {
  "kernelspec": {
   "display_name": "Python 3 (ipykernel)",
   "language": "python",
   "name": "python3"
  },
  "language_info": {
   "codemirror_mode": {
    "name": "ipython",
    "version": 3
   },
   "file_extension": ".py",
   "mimetype": "text/x-python",
   "name": "python",
   "nbconvert_exporter": "python",
   "pygments_lexer": "ipython3",
   "version": "3.8.13"
  },
  "latex_envs": {
   "LaTeX_envs_menu_present": true,
   "autoclose": false,
   "autocomplete": true,
   "bibliofile": "biblio.bib",
   "cite_by": "apalike",
   "current_citInitial": 1,
   "eqLabelWithNumbers": true,
   "eqNumInitial": 1,
   "hotkeys": {
    "equation": "Ctrl-E",
    "itemize": "Ctrl-I"
   },
   "labels_anchors": false,
   "latex_user_defs": false,
   "report_style_numbering": false,
   "user_envs_cfg": false
  },
  "toc": {
   "base_numbering": 1,
   "nav_menu": {},
   "number_sections": true,
   "sideBar": true,
   "skip_h1_title": false,
   "title_cell": "Table of Contents",
   "title_sidebar": "Contents",
   "toc_cell": false,
   "toc_position": {},
   "toc_section_display": true,
   "toc_window_display": true
  }
 },
 "nbformat": 4,
 "nbformat_minor": 5
}
